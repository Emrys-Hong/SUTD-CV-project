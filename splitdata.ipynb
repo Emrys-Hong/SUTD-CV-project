{
 "cells": [
  {
   "cell_type": "code",
   "execution_count": 68,
   "metadata": {},
   "outputs": [],
   "source": [
    "import pandas as pd\n",
    "import numpy as np\n",
    "import os"
   ]
  },
  {
   "cell_type": "code",
   "execution_count": 61,
   "metadata": {},
   "outputs": [],
   "source": [
    "df_train = pd.read_csv('train_v2.csv')\n",
    "n_fold = 5\n",
    "train_idx_ls = []\n",
    "val_seen_idx_ls = []\n",
    "for fold in range(n_fold):\n",
    "    train_idx = np.where((df_train['fold'] != fold) & (df_train['unseen'] == 0))[0]\n",
    "    valid_seen_idx = np.where((df_train['fold'] == fold) & (df_train['unseen'] == 0))[0]\n",
    "    train_idx_ls.append(train_idx)\n",
    "    val_seen_idx_ls.append(valid_seen_idx)\n",
    "valid_unseen_idx = np.where((df_train['unseen'] != 0))[0]"
   ]
  },
  {
   "cell_type": "code",
   "execution_count": 65,
   "metadata": {},
   "outputs": [],
   "source": [
    "x = np.load(\"train_full_128.npy\")"
   ]
  },
  {
   "cell_type": "code",
   "execution_count": 77,
   "metadata": {},
   "outputs": [],
   "source": [
    "def make_data(csv_name,npy_name,index,df):\n",
    "    dataset = x[index]\n",
    "    tr_labels = df.loc[index]\n",
    "    tr_labels.to_csv(csv_name,index=False)\n",
    "    np.save(npy_name,dataset)"
   ]
  },
  {
   "cell_type": "code",
   "execution_count": 78,
   "metadata": {},
   "outputs": [],
   "source": [
    "for i in range(5):\n",
    "    directory = f\"split-{i}\"\n",
    "    if not os.path.isdir(directory):\n",
    "        os.makedirs(directory)\n",
    "        \n",
    "    make_data(f\"./{directory}/train-{i}.csv\",f\"./{directory}/train-{i}\",train_idx_ls[i],df_train)\n",
    "    make_data(f\"./{directory}/val-{i}.csv\",f\"./{directory}/val-{i}\",val_seen_idx_ls[i],df_train)\n",
    "    \n",
    "make_data(\"unseen-val.csv\",\"unseen-val\",valid_unseen_idx,df_train)"
   ]
  },
  {
   "cell_type": "code",
   "execution_count": 76,
   "metadata": {},
   "outputs": [],
   "source": []
  },
  {
   "cell_type": "code",
   "execution_count": null,
   "metadata": {},
   "outputs": [],
   "source": []
  },
  {
   "cell_type": "code",
   "execution_count": null,
   "metadata": {},
   "outputs": [],
   "source": []
  }
 ],
 "metadata": {
  "kernelspec": {
   "display_name": "Python 3.7.4 64-bit ('base': conda)",
   "language": "python",
   "name": "python37464bitbasecondadbdc2f4130c44054a213519a2e110a01"
  },
  "language_info": {
   "codemirror_mode": {
    "name": "ipython",
    "version": 3
   },
   "file_extension": ".py",
   "mimetype": "text/x-python",
   "name": "python",
   "nbconvert_exporter": "python",
   "pygments_lexer": "ipython3",
   "version": "3.7.4"
  },
  "varInspector": {
   "cols": {
    "lenName": 16,
    "lenType": 16,
    "lenVar": 40
   },
   "kernels_config": {
    "python": {
     "delete_cmd_postfix": "",
     "delete_cmd_prefix": "del ",
     "library": "var_list.py",
     "varRefreshCmd": "print(var_dic_list())"
    },
    "r": {
     "delete_cmd_postfix": ") ",
     "delete_cmd_prefix": "rm(",
     "library": "var_list.r",
     "varRefreshCmd": "cat(var_dic_list()) "
    }
   },
   "types_to_exclude": [
    "module",
    "function",
    "builtin_function_or_method",
    "instance",
    "_Feature"
   ],
   "window_display": false
  }
 },
 "nbformat": 4,
 "nbformat_minor": 4
}
