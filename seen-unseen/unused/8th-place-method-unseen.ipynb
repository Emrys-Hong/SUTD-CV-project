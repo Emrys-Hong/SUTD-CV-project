{
 "cells": [
  {
   "cell_type": "code",
   "execution_count": 1,
   "metadata": {},
   "outputs": [],
   "source": [
    "import os\n",
    "import sys\n",
    "# os.environ['CUDA_VISIBLE_DEVICES'] = '1'\n",
    "import glob\n",
    "import math\n",
    "import time\n",
    "import numpy as np\n",
    "import pandas as pd\n",
    "import cv2\n",
    "import PIL.Image\n",
    "import seaborn as sns\n",
    "import matplotlib.pyplot as plt\n",
    "%matplotlib inline\n",
    "from tqdm import tqdm_notebook as tqdm\n",
    "import sklearn.metrics\n",
    "from sklearn.model_selection import StratifiedKFold\n",
    "import torch\n",
    "from torch.utils.data import DataLoader, Dataset\n",
    "import torch.nn as nn\n",
    "import torch.nn.functional as F\n",
    "import torch.optim as optim\n",
    "from torch.optim import lr_scheduler\n",
    "from torch.utils.data.sampler import RandomSampler\n",
    "from torch.optim.lr_scheduler import StepLR, ReduceLROnPlateau, CosineAnnealingLR\n",
    "import albumentations\n",
    "from efficientnet_pytorch import model as enet\n",
    "from fastprogress.fastprogress import master_bar, progress_bar\n",
    "device = torch.device('cuda:2')\n",
    "# torch.cuda.set_device(device)\n",
    "# import apex; from apex import amp"
   ]
  },
  {
   "cell_type": "code",
   "execution_count": 2,
   "metadata": {},
   "outputs": [
    {
     "name": "stderr",
     "output_type": "stream",
     "text": [
      "/home/pengfei/miniconda3/envs/xray/lib/python3.8/site-packages/sklearn/model_selection/_split.py:292: FutureWarning: Setting a random_state has no effect since shuffle is False. This will raise an error in 0.24. You should leave random_state to its default (None), or set shuffle=True.\n",
      "  warnings.warn(\n"
     ]
    },
    {
     "data": {
      "text/html": [
       "\n",
       "    <div>\n",
       "        <style>\n",
       "            /* Turns off some styling */\n",
       "            progress {\n",
       "                /* gets rid of default border in Firefox and Opera. */\n",
       "                border: none;\n",
       "                /* Needs to be in here for Safari polyfill so background images work as expected. */\n",
       "                background-size: auto;\n",
       "            }\n",
       "            .progress-bar-interrupted, .progress-bar-interrupted::-webkit-progress-bar {\n",
       "                background: #F44336;\n",
       "            }\n",
       "        </style>\n",
       "      <progress value='1295' class='' max='1295' style='width:300px; height:20px; vertical-align: middle;'></progress>\n",
       "      100.00% [1295/1295 00:02<00:00]\n",
       "    </div>\n",
       "    "
      ],
      "text/plain": [
       "<IPython.core.display.HTML object>"
      ]
     },
     "metadata": {},
     "output_type": "display_data"
    }
   ],
   "source": [
    "kernel_type = 'effnet-b6-unseen'\n",
    "enet_type = 'efficientnet-b6'\n",
    "fold = 0\n",
    "HEIGHT = 137\n",
    "WIDTH = 236\n",
    "image_size = 224\n",
    "cut_size = int(image_size * 0.85)\n",
    "data_dir = 'bengali'\n",
    "batch_size = 64\n",
    "num_workers = 32\n",
    "init_lr = 0.001\n",
    "c0_dim = 1295\n",
    "c1_dim = 168\n",
    "c2_dim = 11\n",
    "c3_dim = 7\n",
    "out_dim = c0_dim + c1_dim + c2_dim + c3_dim\n",
    "loss_weight = [4, 2, 1, 1]\n",
    "n_epochs = 60\n",
    "use_amp = False\n",
    "\n",
    "files_train = [f'bengaliai-cv19-feather/train_image_data_{fid}.feather' for fid in range(4)]\n",
    "files_test = [f'bengaliai-cv19-feather/test_image_data_{fid}.feather' for fid in range(4)]\n",
    "\n",
    "df_train = pd.read_csv(os.path.join(data_dir, f'train.csv'))\n",
    "df_class_map = pd.read_csv(os.path.join(data_dir, f'class_map.csv'))\n",
    "\n",
    "id2grapheme = {i: grapheme for i, grapheme in enumerate(df_train.grapheme.unique())}\n",
    "grapheme2id = {grapheme: i for i, grapheme in enumerate(df_train.grapheme.unique())}\n",
    "df_train['grapheme_id'] = df_train['grapheme'].map(grapheme2id)\n",
    "\n",
    "n_fold = 5\n",
    "skf = StratifiedKFold(n_fold, random_state=42)\n",
    "for i_fold, (train_idx, val_idx) in enumerate(skf.split(df_train, df_train.grapheme)):\n",
    "    df_train.loc[val_idx, 'fold'] = i_fold\n",
    "df_train['fold'] = df_train['fold'].astype(int)\n",
    "\n",
    "df_label_map = []\n",
    "for i, df in progress_bar(df_train.groupby('grapheme_id')):\n",
    "    df_label_map.append(df.iloc[:, 1:6].drop_duplicates())\n",
    "df_label_map = pd.concat(df_label_map).reset_index(drop=True)"
   ]
  },
  {
   "cell_type": "code",
   "execution_count": 3,
   "metadata": {},
   "outputs": [],
   "source": [
    "def read_data(files):\n",
    "    tmp = []\n",
    "    for f in files:\n",
    "        F = os.path.join(data_dir, f)\n",
    "        data = pd.read_feather(F)\n",
    "        res = data.iloc[:, 1:].values\n",
    "        imgs = []\n",
    "        for i in progress_bar(range(res.shape[0])):\n",
    "            img = res[i].squeeze().reshape(HEIGHT, WIDTH)\n",
    "            img = cv2.resize(img, (128, 128))\n",
    "            imgs.append(img)\n",
    "        imgs = np.asarray(imgs)\n",
    "        \n",
    "        tmp.append(imgs)\n",
    "    tmp = np.concatenate(tmp, 0)\n",
    "    return tmp\n",
    "\n",
    "\n",
    "class BengaliDataset(Dataset):\n",
    "    def __init__(self, csv, data, idx, split, mode, transform=None):\n",
    "\n",
    "        self.csv = csv.reset_index()\n",
    "        self.data = data\n",
    "        self.idx = np.asarray(idx)\n",
    "        self.split = split\n",
    "        self.mode = mode\n",
    "        self.transform = transform\n",
    "\n",
    "    def __len__(self):\n",
    "        return self.idx.shape[0]\n",
    "\n",
    "    def __getitem__(self, index):\n",
    "        index = self.idx[index]\n",
    "        this_img_id = self.csv.iloc[index].image_id\n",
    "        \n",
    "        image = self.data[index]\n",
    "        image = 255 - image\n",
    "\n",
    "        if self.transform is not None:\n",
    "            image_origin = image.astype(np.float32).copy()\n",
    "            res = self.transform(image=image)\n",
    "            image = res['image'].astype(np.float32)\n",
    "        else:\n",
    "            image_origin = image.astype(np.float32).copy()\n",
    "            image = image.astype(np.float32)\n",
    "\n",
    "        image /= 255\n",
    "        image = image[np.newaxis, :, :]\n",
    "        image = np.repeat(image, 3, 0)  # 1ch to 3ch\n",
    "        ###\n",
    "        image_origin /= 255\n",
    "        image_origin = image_origin[np.newaxis, :, :]\n",
    "        image_origin = np.repeat(image_origin, 3, 0)  # 1ch to 3ch\n",
    "        ###\n",
    "\n",
    "        if self.mode == 'test':\n",
    "            return torch.tensor(image)\n",
    "        else:\n",
    "            label_0 = self.csv.iloc[index].grapheme_id\n",
    "            label_1 = self.csv.iloc[index].grapheme_root\n",
    "            label_2 = self.csv.iloc[index].vowel_diacritic\n",
    "            label_3 = self.csv.iloc[index].consonant_diacritic\n",
    "            label = [label_0, label_1, label_2, label_3]\n",
    "            return torch.tensor(image), torch.tensor(image_origin), torch.tensor(label)"
   ]
  },
  {
   "cell_type": "code",
   "execution_count": 4,
   "metadata": {},
   "outputs": [
    {
     "data": {
      "text/html": [
       "\n",
       "    <div>\n",
       "        <style>\n",
       "            /* Turns off some styling */\n",
       "            progress {\n",
       "                /* gets rid of default border in Firefox and Opera. */\n",
       "                border: none;\n",
       "                /* Needs to be in here for Safari polyfill so background images work as expected. */\n",
       "                background-size: auto;\n",
       "            }\n",
       "            .progress-bar-interrupted, .progress-bar-interrupted::-webkit-progress-bar {\n",
       "                background: #F44336;\n",
       "            }\n",
       "        </style>\n",
       "      <progress value='50210' class='' max='50210' style='width:300px; height:20px; vertical-align: middle;'></progress>\n",
       "      100.00% [50210/50210 00:05<00:00]\n",
       "    </div>\n",
       "    "
      ],
      "text/plain": [
       "<IPython.core.display.HTML object>"
      ]
     },
     "metadata": {},
     "output_type": "display_data"
    },
    {
     "data": {
      "text/html": [
       "\n",
       "    <div>\n",
       "        <style>\n",
       "            /* Turns off some styling */\n",
       "            progress {\n",
       "                /* gets rid of default border in Firefox and Opera. */\n",
       "                border: none;\n",
       "                /* Needs to be in here for Safari polyfill so background images work as expected. */\n",
       "                background-size: auto;\n",
       "            }\n",
       "            .progress-bar-interrupted, .progress-bar-interrupted::-webkit-progress-bar {\n",
       "                background: #F44336;\n",
       "            }\n",
       "        </style>\n",
       "      <progress value='50210' class='' max='50210' style='width:300px; height:20px; vertical-align: middle;'></progress>\n",
       "      100.00% [50210/50210 00:05<00:00]\n",
       "    </div>\n",
       "    "
      ],
      "text/plain": [
       "<IPython.core.display.HTML object>"
      ]
     },
     "metadata": {},
     "output_type": "display_data"
    },
    {
     "data": {
      "text/html": [
       "\n",
       "    <div>\n",
       "        <style>\n",
       "            /* Turns off some styling */\n",
       "            progress {\n",
       "                /* gets rid of default border in Firefox and Opera. */\n",
       "                border: none;\n",
       "                /* Needs to be in here for Safari polyfill so background images work as expected. */\n",
       "                background-size: auto;\n",
       "            }\n",
       "            .progress-bar-interrupted, .progress-bar-interrupted::-webkit-progress-bar {\n",
       "                background: #F44336;\n",
       "            }\n",
       "        </style>\n",
       "      <progress value='50210' class='' max='50210' style='width:300px; height:20px; vertical-align: middle;'></progress>\n",
       "      100.00% [50210/50210 00:05<00:00]\n",
       "    </div>\n",
       "    "
      ],
      "text/plain": [
       "<IPython.core.display.HTML object>"
      ]
     },
     "metadata": {},
     "output_type": "display_data"
    },
    {
     "data": {
      "text/html": [
       "\n",
       "    <div>\n",
       "        <style>\n",
       "            /* Turns off some styling */\n",
       "            progress {\n",
       "                /* gets rid of default border in Firefox and Opera. */\n",
       "                border: none;\n",
       "                /* Needs to be in here for Safari polyfill so background images work as expected. */\n",
       "                background-size: auto;\n",
       "            }\n",
       "            .progress-bar-interrupted, .progress-bar-interrupted::-webkit-progress-bar {\n",
       "                background: #F44336;\n",
       "            }\n",
       "        </style>\n",
       "      <progress value='50210' class='' max='50210' style='width:300px; height:20px; vertical-align: middle;'></progress>\n",
       "      100.00% [50210/50210 00:05<00:00]\n",
       "    </div>\n",
       "    "
      ],
      "text/plain": [
       "<IPython.core.display.HTML object>"
      ]
     },
     "metadata": {},
     "output_type": "display_data"
    }
   ],
   "source": [
    "data = read_data(files_train)\n",
    "transforms_train = albumentations.Compose([\n",
    "    albumentations.RandomBrightness(limit=0.2, p=0.75),\n",
    "    albumentations.OneOf([\n",
    "        albumentations.MotionBlur(blur_limit=5),\n",
    "        albumentations.MedianBlur(blur_limit=5),\n",
    "        albumentations.GaussianBlur(blur_limit=5),\n",
    "        albumentations.GaussNoise(var_limit=(5.0, 30.0)),\n",
    "    ], p=0.7),\n",
    "    albumentations.OneOf([\n",
    "        albumentations.OpticalDistortion(distort_limit=1.0),\n",
    "        albumentations.GridDistortion(num_steps=5, distort_limit=1.),\n",
    "        albumentations.ElasticTransform(alpha=3),\n",
    "    ], p=0.7),\n",
    "    albumentations.ShiftScaleRotate(shift_limit=0.5, scale_limit=0.15, rotate_limit=15, border_mode=0, p=0.75),\n",
    "    albumentations.Cutout(max_h_size=cut_size, max_w_size=cut_size, num_holes=1, p=0.7),\n",
    "\n",
    "])\n",
    "transforms_val = albumentations.Compose([\n",
    "])"
   ]
  },
  {
   "cell_type": "code",
   "execution_count": 5,
   "metadata": {},
   "outputs": [
    {
     "data": {
      "image/png": "[encoded data removed]",
      "text/plain": [
       "<Figure size 1440x720 with 5 Axes>"
      ]
     },
     "metadata": {
      "needs_background": "light"
     },
     "output_type": "display_data"
    },
    {
     "data": {
      "image/png": "[encoded data removed]",
      "text/plain": [
       "<Figure size 1440x720 with 5 Axes>"
      ]
     },
     "metadata": {
      "needs_background": "light"
     },
     "output_type": "display_data"
    }
   ],
   "source": [
    "df_show = df_train.iloc[:1000]\n",
    "dataset_show = BengaliDataset(df_show, data, list(range(df_show.shape[0])), 'train', 'train', transform=transforms_train)\n",
    "\n",
    "from pylab import rcParams\n",
    "rcParams['figure.figsize'] = 20,10\n",
    "for i in range(2):\n",
    "    f, axarr = plt.subplots(1,5)\n",
    "    for p in range(5):\n",
    "        idx = np.random.randint(0, len(dataset_show))\n",
    "        img, img_org, label = dataset_show[idx]\n",
    "        axarr[p].imshow(img.transpose(0, 1).transpose(1,2).squeeze())\n",
    "        axarr[p].set_title(idx)"
   ]
  },
  {
   "cell_type": "code",
   "execution_count": 6,
   "metadata": {},
   "outputs": [],
   "source": [
    "pretrained_dict = {f'efficientnet-b{i}': f for i, f in enumerate(sorted(glob.glob('bengali/efficientnet-pytorch/*pth')))}\n",
    "\n",
    "\n",
    "sigmoid = torch.nn.Sigmoid()\n",
    "class Swish(torch.autograd.Function):\n",
    "    @staticmethod\n",
    "    def forward(ctx, i):\n",
    "        result = i * sigmoid(i)\n",
    "        ctx.save_for_backward(i)\n",
    "        return result\n",
    "\n",
    "    @staticmethod\n",
    "    def backward(ctx, grad_output):\n",
    "        i = ctx.saved_variables[0]\n",
    "        sigmoid_i = sigmoid(i)\n",
    "        return grad_output * (sigmoid_i * (1 + i * (1 - sigmoid_i)))\n",
    "\n",
    "swish = Swish.apply\n",
    "\n",
    "class Swish_module(nn.Module):\n",
    "    def forward(self, x):\n",
    "        return swish(x)\n",
    "\n",
    "swish_layer = Swish_module()\n",
    "\n",
    "def relu_fn(x):\n",
    "    \"\"\" Swish activation function \"\"\"\n",
    "    return swish_layer(x)\n",
    "\n",
    "\n",
    "class enet_3cg(nn.Module):\n",
    "\n",
    "    def __init__(self, backbone, out_dim_1, out_dim_2):\n",
    "        super(enet_3cg, self).__init__()\n",
    "        self.enet = enet.EfficientNet.from_name(backbone)\n",
    "        self.enet.load_state_dict(torch.load(pretrained_dict[backbone]), strict=True)\n",
    "        self.dropouts = nn.ModuleList([\n",
    "            nn.Dropout(0.5) for _ in range(5)\n",
    "        ])\n",
    "        self.myfc_1 = nn.Linear(self.enet._fc.in_features, out_dim_2)\n",
    "        self.activate = Swish_module()\n",
    "        self.myfc_2 = nn.Linear(out_dim_2, out_dim_1)\n",
    "        self.enet._fc = nn.Identity()\n",
    "\n",
    "    def extract(self, x):\n",
    "        return self.enet(x)\n",
    "\n",
    "    def forward(self, x):\n",
    "        x = self.extract(x)\n",
    "        for i, dropout in enumerate(self.dropouts):\n",
    "            if i == 0:\n",
    "                out_2 = self.myfc_1(dropout(x))\n",
    "            else:\n",
    "                out_2 += self.myfc_1(dropout(x))\n",
    "        out_2 /= len(self.dropouts)\n",
    "        out_1 = self.myfc_2(self.activate(out_2))\n",
    "        return out_1, out_2"
   ]
  },
  {
   "cell_type": "markdown",
   "metadata": {},
   "source": [
    "## Loss func"
   ]
  },
  {
   "cell_type": "code",
   "execution_count": 7,
   "metadata": {},
   "outputs": [],
   "source": [
    "def criterion(logits_1, logits_2, target, loss_weight=loss_weight, is_val=False):\n",
    "    loss_1 = nn.CrossEntropyLoss()(logits_2[:, :c1_dim], target[:, 1]) * loss_weight[1]\n",
    "    loss_2 = nn.CrossEntropyLoss()(logits_2[:, c1_dim:c1_dim+c2_dim], target[:, 2]) * loss_weight[2]\n",
    "    loss_3 = nn.CrossEntropyLoss()(logits_2[:, c1_dim+c2_dim:], target[:, 3]) * loss_weight[3]\n",
    "    if is_val:\n",
    "        loss = (loss_1 + loss_2 + loss_3) / sum(loss_weight[1:])\n",
    "    else:\n",
    "        loss_0 = nn.CrossEntropyLoss()(logits_1, target[:, 0]) * loss_weight[0]\n",
    "        loss = (loss_0 + loss_1 + loss_2 + loss_3) / sum(loss_weight)\n",
    "    return loss\n",
    "\n",
    "CE = nn.CrossEntropyLoss()\n",
    "def criterion_mix(logits_1, logits_2, target, loss_weight=loss_weight):\n",
    "    target, shuffled_target, lam = target\n",
    "\n",
    "    loss_0 = nn.CrossEntropyLoss()(logits_1, target[:, 0]) * loss_weight[0]\n",
    "    loss_1 = nn.CrossEntropyLoss()(logits_2[:, :c1_dim], target[:, 1]) * loss_weight[1]\n",
    "    loss_2 = nn.CrossEntropyLoss()(logits_2[:, c1_dim:c1_dim+c2_dim], target[:, 2]) * loss_weight[2]\n",
    "    loss_3 = nn.CrossEntropyLoss()(logits_2[:, c1_dim+c2_dim:], target[:, 3]) * loss_weight[3]\n",
    "\n",
    "    loss = (loss_0 + loss_1 + loss_2 + loss_3) / sum(loss_weight)\n",
    "    \n",
    "    loss_0_mix = nn.CrossEntropyLoss()(logits_1, shuffled_target[:, 0]) * loss_weight[0]\n",
    "    loss_1_mix = nn.CrossEntropyLoss()(logits_2[:, :c1_dim], shuffled_target[:, 1]) * loss_weight[1]\n",
    "    loss_2_mix = nn.CrossEntropyLoss()(logits_2[:, c1_dim:c1_dim+c2_dim], shuffled_target[:, 2]) * loss_weight[2]\n",
    "    loss_3_mix = nn.CrossEntropyLoss()(logits_2[:, c1_dim+c2_dim:], shuffled_target[:, 3]) * loss_weight[3]\n",
    "\n",
    "    loss_mix = (loss_0_mix + loss_1_mix + loss_2_mix + loss_3_mix) / sum(loss_weight)\n",
    "\n",
    "    return lam * loss + (1 - lam) * loss_mix\n",
    "\n",
    "\n",
    "def rand_bbox(size, lam):\n",
    "    W = size[2]\n",
    "    H = size[3]\n",
    "    cut_rat = np.sqrt(1. - lam)\n",
    "    cut_w = np.int(W * cut_rat)\n",
    "    cut_h = np.int(H * cut_rat)\n",
    "\n",
    "    # uniform\n",
    "    cx = np.random.randint(W)\n",
    "    cy = np.random.randint(H)\n",
    "\n",
    "    bbx1 = np.clip(cx - cut_w // 2, 0, W)\n",
    "    bby1 = np.clip(cy - cut_h // 2, 0, H)\n",
    "    bbx2 = np.clip(cx + cut_w // 2, 0, W)\n",
    "    bby2 = np.clip(cy + cut_h // 2, 0, H)\n",
    "    return bbx1, bby1, bbx2, bby2\n",
    "\n",
    "    \n",
    "def cutmix(data, target, alpha, clip=[0.3, 0.7]):\n",
    "    indices = torch.randperm(data.size(0))\n",
    "    shuffled_data = data[indices]\n",
    "    shuffled_target = target[indices]\n",
    "\n",
    "    lam = np.clip(np.random.beta(alpha, alpha), clip[0], clip[1])\n",
    "    bbx1, bby1, bbx2, bby2 = rand_bbox(data.size(), lam)\n",
    "    data[:, :, bbx1:bbx2, bby1:bby2] = data[indices, :, bbx1:bbx2, bby1:bby2]\n",
    "    # adjust lambda to exactly match pixel ratio\n",
    "    lam = 1 - ((bbx2 - bbx1) * (bby2 - bby1) / (data.size()[-1] * data.size()[-2]))\n",
    "    targets = (target, shuffled_target, lam)\n",
    "\n",
    "    return data, targets"
   ]
  },
  {
   "cell_type": "markdown",
   "metadata": {},
   "source": [
    "## train and val"
   ]
  },
  {
   "cell_type": "code",
   "execution_count": 8,
   "metadata": {},
   "outputs": [],
   "source": [
    "def get_score(solution, submission):\n",
    "\n",
    "    scores = []\n",
    "    for component in ['grapheme_root', 'consonant_diacritic', 'vowel_diacritic']:\n",
    "        y_true_subset = solution[component].values\n",
    "        y_pred_subset = submission[component].values\n",
    "        scores.append(sklearn.metrics.recall_score(\n",
    "            y_true_subset, y_pred_subset, average='macro'))\n",
    "    final_score = np.average(scores, weights=[2,1,1])\n",
    "    return final_score\n",
    "\n",
    "\n",
    "def train_epoch(loader, optimizer, mb):\n",
    "\n",
    "    model.train()\n",
    "    train_loss = []\n",
    "    for (data, data_org, target) in progress_bar(loader, parent=mb):\n",
    "\n",
    "        data, data_org, target = data.to(device), data_org.to(device), target.to(device)\n",
    "        ### mixup & cutmix & cutout\n",
    "        rand_p = np.random.rand()\n",
    "        if rand_p <= 0.0:\n",
    "            data, target = mixup(data_org, target, 1.)  # process from origin\n",
    "            loss_func = criterion_mix\n",
    "        elif 0.0 < rand_p <= 0.2:\n",
    "            data, target = cutmix(data_org, target, 1.)  # process from origin\n",
    "            loss_func = criterion_mix\n",
    "        else:\n",
    "            loss_func = criterion\n",
    "        ###\n",
    "        optimizer.zero_grad()\n",
    "        logits_1, logits_2 = model(data)\n",
    "        loss = loss_func(logits_1, logits_2, target)\n",
    "\n",
    "        if not use_amp:\n",
    "            loss.backward()\n",
    "        else:\n",
    "            with amp.scale_loss(loss, optimizer) as scaled_loss:\n",
    "                scaled_loss.backward()\n",
    "\n",
    "#         torch.nn.utils.clip_grad_norm_(model.parameters(), clip_grad)\n",
    "        optimizer.step()\n",
    "\n",
    "        loss_np = loss.detach().cpu().numpy()\n",
    "        train_loss.append(loss_np)\n",
    "        smooth_loss = sum(train_loss[-20:]) / min(len(train_loss), 20)\n",
    "        mb.child.comment = 'loss: %.5f, smth: %.5f' % (loss_np, smooth_loss)\n",
    "    return train_loss\n",
    "\n",
    "\n",
    "def val_epoch(loader, get_output=False):\n",
    "\n",
    "    model.eval()\n",
    "    val_loss = []\n",
    "    outputs = []\n",
    "    LOGITS_1, LOGITS_2, LOGITS_M = [], [], []\n",
    "    p1, p2, p3 = [], [], []\n",
    "    masks = []\n",
    "    acc, acc1, acc2, acc3 = 0.0,0.0,0.0,0.0\n",
    "\n",
    "    with torch.no_grad():\n",
    "        for (data, data_org, target) in tqdm(loader):\n",
    "            data, target = data.to(device), target.to(device)\n",
    "            logits_1, logits_2 = model(data)\n",
    "\n",
    "            loss = criterion(logits_1, logits_2, target, is_val=True)\n",
    "\n",
    "            pred = logits_1.argmax(1).detach()\n",
    "            pred1 = logits_2[:, :c1_dim].argmax(1).detach()\n",
    "            pred2 = logits_2[:, c1_dim:c1_dim+c2_dim].argmax(1).detach()\n",
    "            pred3 = logits_2[:, c1_dim+c2_dim:].argmax(1).detach()\n",
    "            outputs.append(pred)\n",
    "            p1.append(pred1)\n",
    "            p2.append(pred2)\n",
    "            p3.append(pred3)\n",
    "\n",
    "            acc += (target[:, 0] == pred).sum().cpu().numpy()\n",
    "            acc1 += (target[:, 1] == pred1).sum().cpu().numpy()\n",
    "            acc2 += (target[:, 2] == pred2).sum().cpu().numpy()\n",
    "            acc3 += (target[:, 3] == pred3).sum().cpu().numpy()\n",
    "            \n",
    "            if get_output:\n",
    "                LOGITS_1.append(logits_1)\n",
    "                LOGITS_2.append(logits_2)\n",
    "\n",
    "            val_loss.append(loss.detach().cpu().numpy())\n",
    "\n",
    "        val_loss = np.mean(val_loss)\n",
    "        acc = acc / len(dataset_valid) * 100\n",
    "        acc1 = acc1 / len(dataset_valid) * 100\n",
    "        acc2 = acc2 / len(dataset_valid) * 100\n",
    "        acc3 = acc3 / len(dataset_valid) * 100\n",
    "\n",
    "    preds = torch.cat(outputs).cpu().numpy()\n",
    "    solution = df_train.iloc[valid_idx]\n",
    "    submission1 = df_label_map.iloc[preds]\n",
    "    score1 = get_score(solution, submission1)\n",
    "    \n",
    "    submission2 = pd.DataFrame({\n",
    "        'grapheme_root': torch.cat(p1).cpu().numpy(),\n",
    "        'vowel_diacritic': torch.cat(p2).cpu().numpy(),\n",
    "        'consonant_diacritic': torch.cat(p3).cpu().numpy(),\n",
    "    })\n",
    "    score2 = get_score(solution, submission2)\n",
    "\n",
    "    if get_output:\n",
    "        LOGITS_1 = torch.cat(LOGITS_1).cpu().numpy()\n",
    "        LOGITS_2 = torch.cat(LOGITS_2).cpu().numpy()\n",
    "        return LOGITS_1, LOGITS_2\n",
    "    else:\n",
    "        return val_loss, acc, acc1, acc2, acc3, score1, score2"
   ]
  },
  {
   "cell_type": "code",
   "execution_count": 9,
   "metadata": {},
   "outputs": [],
   "source": [
    "n_fold = 5\n",
    "record = [{'train_loss': [], 'val_loss': [], 'score1': [], 'score2': []} for x in range(n_fold)]"
   ]
  },
  {
   "cell_type": "code",
   "execution_count": 10,
   "metadata": {},
   "outputs": [
    {
     "name": "stdout",
     "output_type": "stream",
     "text": [
      "Training All Layers...\n"
     ]
    },
    {
     "data": {
      "text/html": [],
      "text/plain": [
       "<IPython.core.display.HTML object>"
      ]
     },
     "metadata": {},
     "output_type": "display_data"
    },
    {
     "name": "stdout",
     "output_type": "stream",
     "text": [
      "Sun Apr 19 01:07:07 2020 Epoch: 1\n"
     ]
    },
    {
     "name": "stderr",
     "output_type": "stream",
     "text": [
      "/home/pengfei/miniconda3/envs/xray/lib/python3.8/site-packages/torch/optim/lr_scheduler.py:117: UserWarning: Detected call of `lr_scheduler.step()` before `optimizer.step()`. In PyTorch 1.1.0 and later, you should call them in the opposite order: `optimizer.step()` before `lr_scheduler.step()`.  Failure to do this will result in PyTorch skipping the first value of the learning rate schedule. See more details at https://pytorch.org/docs/stable/optim.html#how-to-adjust-learning-rate\n",
      "  warnings.warn(\"Detected call of `lr_scheduler.step()` before `optimizer.step()`. \"\n",
      "<ipython-input-6-f886b4cd4d11>:14: DeprecationWarning: 'saved_variables' is deprecated; use 'saved_tensors'\n",
      "  i = ctx.saved_variables[0]\n",
      "<ipython-input-8-521c432fe113>:62: TqdmDeprecationWarning: This function will be removed in tqdm==5.0.0\n",
      "Please use `tqdm.notebook.tqdm` instead of `tqdm.tqdm_notebook`\n",
      "  for (data, data_org, target) in tqdm(loader):\n"
     ]
    },
    {
     "data": {
      "application/vnd.jupyter.widget-view+json": {
       "model_id": "f06c66d2e69749faa1d8da46152ce73f",
       "version_major": 2,
       "version_minor": 0
      },
      "text/plain": [
       "HBox(children=(FloatProgress(value=0.0, max=628.0), HTML(value='')))"
      ]
     },
     "metadata": {},
     "output_type": "display_data"
    },
    {
     "name": "stdout",
     "output_type": "stream",
     "text": [
      "\n",
      "Sun Apr 19 01:25:52 2020 Epoch 1, lr: 0.0010000, train loss: 4.90027, val loss: 1.56021, acc: 17.78779, acc1: 29.46873, acc2: 82.88439, acc3: 86.33240, score1: 0.434233, score2: 0.360731\n",
      "score2 (0.000000 --> 0.434233).  Saving model ...\n",
      "Sun Apr 19 01:25:52 2020 Epoch: 2\n"
     ]
    },
    {
     "data": {
      "application/vnd.jupyter.widget-view+json": {
       "model_id": "769cc5431e7448818886ee68be9c0b84",
       "version_major": 2,
       "version_minor": 0
      },
      "text/plain": [
       "HBox(children=(FloatProgress(value=0.0, max=628.0), HTML(value='')))"
      ]
     },
     "metadata": {},
     "output_type": "display_data"
    },
    {
     "name": "stdout",
     "output_type": "stream",
     "text": [
      "\n",
      "Sun Apr 19 01:44:52 2020 Epoch 2, lr: 0.0009993, train loss: 4.39490, val loss: 0.73472, acc: 57.49851, acc1: 70.10058, acc2: 91.08992, acc3: 93.08405, score1: 0.733702, score2: 0.669279\n",
      "score2 (0.434233 --> 0.733702).  Saving model ...\n",
      "Sun Apr 19 01:44:53 2020 Epoch: 3\n"
     ]
    },
    {
     "data": {
      "application/vnd.jupyter.widget-view+json": {
       "model_id": "7678b0458871478088b196eaae3f5a73",
       "version_major": 2,
       "version_minor": 0
      },
      "text/plain": [
       "HBox(children=(FloatProgress(value=0.0, max=628.0), HTML(value='')))"
      ]
     },
     "metadata": {},
     "output_type": "display_data"
    },
    {
     "name": "stdout",
     "output_type": "stream",
     "text": [
      "\n",
      "Sun Apr 19 02:03:35 2020 Epoch 3, lr: 0.0009973, train loss: 4.15843, val loss: 0.49238, acc: 74.27056, acc1: 80.11850, acc2: 94.15704, acc3: 95.20016, score1: 0.835491, score2: 0.831630\n",
      "score2 (0.733702 --> 0.835491).  Saving model ...\n",
      "Sun Apr 19 02:03:36 2020 Epoch: 4\n"
     ]
    },
    {
     "data": {
      "application/vnd.jupyter.widget-view+json": {
       "model_id": "27ccabff43814357b89dbbc718609153",
       "version_major": 2,
       "version_minor": 0
      },
      "text/plain": [
       "HBox(children=(FloatProgress(value=0.0, max=628.0), HTML(value='')))"
      ]
     },
     "metadata": {},
     "output_type": "display_data"
    },
    {
     "name": "stdout",
     "output_type": "stream",
     "text": [
      "\n",
      "Sun Apr 19 02:22:23 2020 Epoch 4, lr: 0.0009938, train loss: 4.07651, val loss: 0.39548, acc: 79.08285, acc1: 83.66112, acc2: 95.32713, acc3: 95.60098, score1: 0.864828, score2: 0.859182\n",
      "score2 (0.835491 --> 0.864828).  Saving model ...\n",
      "Sun Apr 19 02:22:23 2020 Epoch: 5\n"
     ]
    },
    {
     "data": {
      "application/vnd.jupyter.widget-view+json": {
       "model_id": "f24c50c0d7d94379a30aaf7103a84419",
       "version_major": 2,
       "version_minor": 0
      },
      "text/plain": [
       "HBox(children=(FloatProgress(value=0.0, max=628.0), HTML(value='')))"
      ]
     },
     "metadata": {},
     "output_type": "display_data"
    },
    {
     "name": "stdout",
     "output_type": "stream",
     "text": [
      "\n",
      "Sun Apr 19 02:41:19 2020 Epoch 5, lr: 0.0009891, train loss: 4.00060, val loss: 0.32224, acc: 83.36985, acc1: 87.21370, acc2: 95.67317, acc3: 95.91466, score1: 0.893790, score2: 0.876915\n",
      "score2 (0.864828 --> 0.893790).  Saving model ...\n",
      "Sun Apr 19 02:41:20 2020 Epoch: 6\n"
     ]
    },
    {
     "data": {
      "application/vnd.jupyter.widget-view+json": {
       "model_id": "14295667ee344c33bcd8d1fd3c6d0e1a",
       "version_major": 2,
       "version_minor": 0
      },
      "text/plain": [
       "HBox(children=(FloatProgress(value=0.0, max=628.0), HTML(value='')))"
      ]
     },
     "metadata": {},
     "output_type": "display_data"
    },
    {
     "name": "stdout",
     "output_type": "stream",
     "text": [
      "\n",
      "Sun Apr 19 02:59:55 2020 Epoch 6, lr: 0.0009830, train loss: 3.94943, val loss: 0.34196, acc: 82.84704, acc1: 86.25025, acc2: 95.76778, acc3: 96.66650, score1: 0.883441, score2: 0.873735\n",
      "Sun Apr 19 02:59:55 2020 Epoch: 7\n"
     ]
    },
    {
     "data": {
      "application/vnd.jupyter.widget-view+json": {
       "model_id": "dcc220f792d647a0890a4ad66406c8a7",
       "version_major": 2,
       "version_minor": 0
      },
      "text/plain": [
       "HBox(children=(FloatProgress(value=0.0, max=628.0), HTML(value='')))"
      ]
     },
     "metadata": {},
     "output_type": "display_data"
    },
    {
     "name": "stdout",
     "output_type": "stream",
     "text": [
      "\n",
      "Sun Apr 19 03:18:46 2020 Epoch 7, lr: 0.0009755, train loss: 3.91800, val loss: 0.26775, acc: 86.97222, acc1: 89.69080, acc2: 96.45738, acc3: 96.85820, score1: 0.916668, score2: 0.912778\n",
      "score2 (0.893790 --> 0.916668).  Saving model ...\n",
      "Sun Apr 19 03:18:46 2020 Epoch: 8\n"
     ]
    },
    {
     "data": {
      "application/vnd.jupyter.widget-view+json": {
       "model_id": "c1a6e3157d6043dea9c028df83b45d8b",
       "version_major": 2,
       "version_minor": 0
      },
      "text/plain": [
       "HBox(children=(FloatProgress(value=0.0, max=628.0), HTML(value='')))"
      ]
     },
     "metadata": {},
     "output_type": "display_data"
    },
    {
     "name": "stdout",
     "output_type": "stream",
     "text": [
      "\n",
      "Sun Apr 19 03:36:48 2020 Epoch 8, lr: 0.0009668, train loss: 3.88738, val loss: 0.24981, acc: 89.16550, acc1: 90.87582, acc2: 96.72874, acc3: 96.95031, score1: 0.929878, score2: 0.913933\n",
      "score2 (0.916668 --> 0.929878).  Saving model ...\n",
      "Sun Apr 19 03:36:48 2020 Epoch: 9\n"
     ]
    },
    {
     "data": {
      "application/vnd.jupyter.widget-view+json": {
       "model_id": "9bdd1cc356dd4de290b7498fe2be58d9",
       "version_major": 2,
       "version_minor": 0
      },
      "text/plain": [
       "HBox(children=(FloatProgress(value=0.0, max=628.0), HTML(value='')))"
      ]
     },
     "metadata": {},
     "output_type": "display_data"
    },
    {
     "name": "stdout",
     "output_type": "stream",
     "text": [
      "\n",
      "Sun Apr 19 03:55:44 2020 Epoch 9, lr: 0.0009568, train loss: 3.87181, val loss: 0.21875, acc: 89.25264, acc1: 91.72227, acc2: 96.76359, acc3: 97.08723, score1: 0.930564, score2: 0.921590\n",
      "score2 (0.929878 --> 0.930564).  Saving model ...\n",
      "Sun Apr 19 03:55:44 2020 Epoch: 10\n"
     ]
    },
    {
     "data": {
      "application/vnd.jupyter.widget-view+json": {
       "model_id": "6d16fedcadab42c3ab27cd26b0b805c4",
       "version_major": 2,
       "version_minor": 0
      },
      "text/plain": [
       "HBox(children=(FloatProgress(value=0.0, max=628.0), HTML(value='')))"
      ]
     },
     "metadata": {},
     "output_type": "display_data"
    },
    {
     "name": "stdout",
     "output_type": "stream",
     "text": [
      "\n",
      "Sun Apr 19 04:14:43 2020 Epoch 10, lr: 0.0009455, train loss: 3.84739, val loss: 0.20451, acc: 90.14887, acc1: 92.46166, acc2: 97.17188, acc3: 97.45569, score1: 0.939211, score2: 0.932672\n",
      "score2 (0.930564 --> 0.939211).  Saving model ...\n",
      "Sun Apr 19 04:14:44 2020 Epoch: 11\n"
     ]
    },
    {
     "data": {
      "application/vnd.jupyter.widget-view+json": {
       "model_id": "9d6c6fd8ae9943af83b1a1113f018528",
       "version_major": 2,
       "version_minor": 0
      },
      "text/plain": [
       "HBox(children=(FloatProgress(value=0.0, max=628.0), HTML(value='')))"
      ]
     },
     "metadata": {},
     "output_type": "display_data"
    },
    {
     "name": "stdout",
     "output_type": "stream",
     "text": [
      "\n",
      "Sun Apr 19 04:33:18 2020 Epoch 11, lr: 0.0009330, train loss: 3.84728, val loss: 0.20751, acc: 90.16879, acc1: 92.08823, acc2: 97.36855, acc3: 97.45071, score1: 0.937783, score2: 0.932061\n",
      "Sun Apr 19 04:33:18 2020 Epoch: 12\n"
     ]
    },
    {
     "data": {
      "application/vnd.jupyter.widget-view+json": {
       "model_id": "a81ac7b36da34b9aa598f3fbf2be0845",
       "version_major": 2,
       "version_minor": 0
      },
      "text/plain": [
       "HBox(children=(FloatProgress(value=0.0, max=628.0), HTML(value='')))"
      ]
     },
     "metadata": {},
     "output_type": "display_data"
    },
    {
     "name": "stdout",
     "output_type": "stream",
     "text": [
      "\n",
      "Sun Apr 19 04:52:03 2020 Epoch 12, lr: 0.0009193, train loss: 3.83357, val loss: 0.20880, acc: 90.53724, acc1: 92.23013, acc2: 97.30880, acc3: 97.47560, score1: 0.938552, score2: 0.922418\n",
      "Sun Apr 19 04:52:03 2020 Epoch: 13\n"
     ]
    },
    {
     "data": {
      "application/vnd.jupyter.widget-view+json": {
       "model_id": "d35cf30575eb44bebaf6af25d044fae0",
       "version_major": 2,
       "version_minor": 0
      },
      "text/plain": [
       "HBox(children=(FloatProgress(value=0.0, max=628.0), HTML(value='')))"
      ]
     },
     "metadata": {},
     "output_type": "display_data"
    },
    {
     "name": "stdout",
     "output_type": "stream",
     "text": [
      "\n",
      "Sun Apr 19 05:10:59 2020 Epoch 13, lr: 0.0009045, train loss: 3.79706, val loss: 0.19869, acc: 91.40609, acc1: 92.88986, acc2: 97.58763, acc3: 97.64987, score1: 0.946538, score2: 0.934245\n",
      "score2 (0.939211 --> 0.946538).  Saving model ...\n",
      "Sun Apr 19 05:10:59 2020 Epoch: 14\n"
     ]
    },
    {
     "data": {
      "application/vnd.jupyter.widget-view+json": {
       "model_id": "b469cfa0da3f4b4f8702836202ebef42",
       "version_major": 2,
       "version_minor": 0
      },
      "text/plain": [
       "HBox(children=(FloatProgress(value=0.0, max=628.0), HTML(value='')))"
      ]
     },
     "metadata": {},
     "output_type": "display_data"
    },
    {
     "name": "stdout",
     "output_type": "stream",
     "text": [
      "\n",
      "Sun Apr 19 05:29:11 2020 Epoch 14, lr: 0.0008886, train loss: 3.77265, val loss: 0.19015, acc: 91.56045, acc1: 93.09649, acc2: 97.40838, acc3: 97.66730, score1: 0.946264, score2: 0.939590\n",
      "Sun Apr 19 05:29:11 2020 Epoch: 15\n"
     ]
    },
    {
     "data": {
      "application/vnd.jupyter.widget-view+json": {
       "model_id": "19a8cf505f4447208a0cf63dd84acb75",
       "version_major": 2,
       "version_minor": 0
      },
      "text/plain": [
       "HBox(children=(FloatProgress(value=0.0, max=628.0), HTML(value='')))"
      ]
     },
     "metadata": {},
     "output_type": "display_data"
    },
    {
     "name": "stdout",
     "output_type": "stream",
     "text": [
      "\n",
      "Sun Apr 19 05:48:05 2020 Epoch 15, lr: 0.0008716, train loss: 3.78093, val loss: 0.18224, acc: 91.61273, acc1: 93.17616, acc2: 97.75194, acc3: 97.71958, score1: 0.948127, score2: 0.943530\n",
      "score2 (0.946538 --> 0.948127).  Saving model ...\n",
      "Sun Apr 19 05:48:06 2020 Epoch: 16\n"
     ]
    },
    {
     "data": {
      "application/vnd.jupyter.widget-view+json": {
       "model_id": "fb1b12c8df2c493fb95f939e7f98b0ab",
       "version_major": 2,
       "version_minor": 0
      },
      "text/plain": [
       "HBox(children=(FloatProgress(value=0.0, max=628.0), HTML(value='')))"
      ]
     },
     "metadata": {},
     "output_type": "display_data"
    },
    {
     "name": "stdout",
     "output_type": "stream",
     "text": [
      "\n",
      "Sun Apr 19 06:06:58 2020 Epoch 16, lr: 0.0008536, train loss: 3.75044, val loss: 0.17936, acc: 91.90400, acc1: 93.65664, acc2: 97.62746, acc3: 97.35610, score1: 0.947411, score2: 0.929657\n",
      "Sun Apr 19 06:06:58 2020 Epoch: 17\n"
     ]
    },
    {
     "data": {
      "application/vnd.jupyter.widget-view+json": {
       "model_id": "5900419c2d0b414b960d521233aa0c8f",
       "version_major": 2,
       "version_minor": 0
      },
      "text/plain": [
       "HBox(children=(FloatProgress(value=0.0, max=628.0), HTML(value='')))"
      ]
     },
     "metadata": {},
     "output_type": "display_data"
    },
    {
     "name": "stdout",
     "output_type": "stream",
     "text": [
      "\n",
      "Sun Apr 19 06:25:55 2020 Epoch 17, lr: 0.0008346, train loss: 3.75612, val loss: 0.18262, acc: 91.67745, acc1: 93.21848, acc2: 97.77933, acc3: 97.71211, score1: 0.946237, score2: 0.937492\n",
      "Sun Apr 19 06:25:55 2020 Epoch: 18\n"
     ]
    },
    {
     "data": {
      "application/vnd.jupyter.widget-view+json": {
       "model_id": "5adf1fffbd9545f99154654b41282fc9",
       "version_major": 2,
       "version_minor": 0
      },
      "text/plain": [
       "HBox(children=(FloatProgress(value=0.0, max=628.0), HTML(value='')))"
      ]
     },
     "metadata": {},
     "output_type": "display_data"
    },
    {
     "name": "stdout",
     "output_type": "stream",
     "text": [
      "\n",
      "Sun Apr 19 06:44:22 2020 Epoch 18, lr: 0.0008147, train loss: 3.72414, val loss: 0.16504, acc: 92.78779, acc1: 93.79606, acc2: 97.84903, acc3: 97.79675, score1: 0.954073, score2: 0.940095\n",
      "score2 (0.948127 --> 0.954073).  Saving model ...\n",
      "Sun Apr 19 06:44:23 2020 Epoch: 19\n"
     ]
    },
    {
     "data": {
      "application/vnd.jupyter.widget-view+json": {
       "model_id": "38a0200620434a78b21f2060443d3aab",
       "version_major": 2,
       "version_minor": 0
      },
      "text/plain": [
       "HBox(children=(FloatProgress(value=0.0, max=628.0), HTML(value='')))"
      ]
     },
     "metadata": {},
     "output_type": "display_data"
    },
    {
     "name": "stdout",
     "output_type": "stream",
     "text": [
      "\n",
      "Sun Apr 19 07:03:17 2020 Epoch 19, lr: 0.0007939, train loss: 3.72212, val loss: 0.16735, acc: 92.86248, acc1: 93.85581, acc2: 97.96106, acc3: 97.75941, score1: 0.954387, score2: 0.942574\n",
      "score2 (0.954073 --> 0.954387).  Saving model ...\n",
      "Sun Apr 19 07:03:17 2020 Epoch: 20\n"
     ]
    },
    {
     "data": {
      "application/vnd.jupyter.widget-view+json": {
       "model_id": "375bce1fa0f7443a823c98c00943ae7a",
       "version_major": 2,
       "version_minor": 0
      },
      "text/plain": [
       "HBox(children=(FloatProgress(value=0.0, max=628.0), HTML(value='')))"
      ]
     },
     "metadata": {},
     "output_type": "display_data"
    },
    {
     "name": "stdout",
     "output_type": "stream",
     "text": [
      "\n",
      "Sun Apr 19 07:22:12 2020 Epoch 20, lr: 0.0007723, train loss: 3.71396, val loss: 0.16733, acc: 93.07658, acc1: 94.03505, acc2: 98.05069, acc3: 97.93368, score1: 0.954512, score2: 0.945029\n",
      "score2 (0.954387 --> 0.954512).  Saving model ...\n",
      "Sun Apr 19 07:22:13 2020 Epoch: 21\n"
     ]
    },
    {
     "data": {
      "application/vnd.jupyter.widget-view+json": {
       "model_id": "a328e062ec2b4dff9700639b3abee5e9",
       "version_major": 2,
       "version_minor": 0
      },
      "text/plain": [
       "HBox(children=(FloatProgress(value=0.0, max=628.0), HTML(value='')))"
      ]
     },
     "metadata": {},
     "output_type": "display_data"
    },
    {
     "name": "stdout",
     "output_type": "stream",
     "text": [
      "\n",
      "Sun Apr 19 07:40:37 2020 Epoch 21, lr: 0.0007500, train loss: 3.70358, val loss: 0.15442, acc: 93.62677, acc1: 94.34625, acc2: 98.28968, acc3: 98.09550, score1: 0.956871, score2: 0.947096\n",
      "score2 (0.954512 --> 0.956871).  Saving model ...\n",
      "Sun Apr 19 07:40:38 2020 Epoch: 22\n"
     ]
    },
    {
     "data": {
      "application/vnd.jupyter.widget-view+json": {
       "model_id": "b44764846f8949e0b94f61962f9e7ad0",
       "version_major": 2,
       "version_minor": 0
      },
      "text/plain": [
       "HBox(children=(FloatProgress(value=0.0, max=628.0), HTML(value='')))"
      ]
     },
     "metadata": {},
     "output_type": "display_data"
    },
    {
     "name": "stdout",
     "output_type": "stream",
     "text": [
      "\n",
      "Sun Apr 19 07:59:39 2020 Epoch 22, lr: 0.0007270, train loss: 3.68231, val loss: 0.15145, acc: 93.31309, acc1: 94.24417, acc2: 98.09799, acc3: 98.08554, score1: 0.958320, score2: 0.949401\n",
      "score2 (0.956871 --> 0.958320).  Saving model ...\n",
      "Sun Apr 19 07:59:40 2020 Epoch: 23\n"
     ]
    },
    {
     "data": {
      "application/vnd.jupyter.widget-view+json": {
       "model_id": "f38a1ee878e6423b90b7c8ff28db04e4",
       "version_major": 2,
       "version_minor": 0
      },
      "text/plain": [
       "HBox(children=(FloatProgress(value=0.0, max=628.0), HTML(value='')))"
      ]
     },
     "metadata": {},
     "output_type": "display_data"
    },
    {
     "name": "stdout",
     "output_type": "stream",
     "text": [
      "\n",
      "Sun Apr 19 08:18:23 2020 Epoch 23, lr: 0.0007034, train loss: 3.66702, val loss: 0.14997, acc: 93.76618, acc1: 94.63503, acc2: 98.24487, acc3: 98.01334, score1: 0.957992, score2: 0.949505\n",
      "Sun Apr 19 08:18:23 2020 Epoch: 24\n"
     ]
    },
    {
     "data": {
      "application/vnd.jupyter.widget-view+json": {
       "model_id": "20537ce4fbbc48458f30216135b2b207",
       "version_major": 2,
       "version_minor": 0
      },
      "text/plain": [
       "HBox(children=(FloatProgress(value=0.0, max=628.0), HTML(value='')))"
      ]
     },
     "metadata": {},
     "output_type": "display_data"
    },
    {
     "name": "stdout",
     "output_type": "stream",
     "text": [
      "\n",
      "Sun Apr 19 08:37:16 2020 Epoch 24, lr: 0.0006792, train loss: 3.67314, val loss: 0.14298, acc: 94.05995, acc1: 94.80183, acc2: 98.36188, acc3: 98.30213, score1: 0.959946, score2: 0.953740\n",
      "score2 (0.958320 --> 0.959946).  Saving model ...\n",
      "Sun Apr 19 08:37:16 2020 Epoch: 25\n"
     ]
    },
    {
     "data": {
      "application/vnd.jupyter.widget-view+json": {
       "model_id": "0e2b8242c85f4790a625e0e57c2d80ce",
       "version_major": 2,
       "version_minor": 0
      },
      "text/plain": [
       "HBox(children=(FloatProgress(value=0.0, max=628.0), HTML(value='')))"
      ]
     },
     "metadata": {},
     "output_type": "display_data"
    },
    {
     "name": "stdout",
     "output_type": "stream",
     "text": [
      "\n",
      "Sun Apr 19 08:56:01 2020 Epoch 25, lr: 0.0006545, train loss: 3.64334, val loss: 0.13625, acc: 94.39106, acc1: 94.86656, acc2: 98.31956, acc3: 98.30960, score1: 0.963272, score2: 0.954410\n",
      "score2 (0.959946 --> 0.963272).  Saving model ...\n",
      "Sun Apr 19 08:56:02 2020 Epoch: 26\n"
     ]
    },
    {
     "data": {
      "application/vnd.jupyter.widget-view+json": {
       "model_id": "264ca21a32834298bd49f404a2f74b11",
       "version_major": 2,
       "version_minor": 0
      },
      "text/plain": [
       "HBox(children=(FloatProgress(value=0.0, max=628.0), HTML(value='')))"
      ]
     },
     "metadata": {},
     "output_type": "display_data"
    },
    {
     "name": "stdout",
     "output_type": "stream",
     "text": [
      "\n",
      "Sun Apr 19 09:15:05 2020 Epoch 26, lr: 0.0006294, train loss: 3.64870, val loss: 0.13505, acc: 94.48068, acc1: 94.63503, acc2: 98.47640, acc3: 98.35441, score1: 0.966067, score2: 0.956078\n",
      "score2 (0.963272 --> 0.966067).  Saving model ...\n",
      "Sun Apr 19 09:15:06 2020 Epoch: 27\n"
     ]
    },
    {
     "data": {
      "application/vnd.jupyter.widget-view+json": {
       "model_id": "0dc7a02f1fae4252b8bf363d7d16c942",
       "version_major": 2,
       "version_minor": 0
      },
      "text/plain": [
       "HBox(children=(FloatProgress(value=0.0, max=628.0), HTML(value='')))"
      ]
     },
     "metadata": {},
     "output_type": "display_data"
    },
    {
     "name": "stdout",
     "output_type": "stream",
     "text": [
      "\n",
      "Sun Apr 19 09:33:39 2020 Epoch 27, lr: 0.0006040, train loss: 3.63716, val loss: 0.13304, acc: 94.38608, acc1: 94.92880, acc2: 98.55357, acc3: 98.31707, score1: 0.964170, score2: 0.955375\n",
      "Sun Apr 19 09:33:39 2020 Epoch: 28\n"
     ]
    },
    {
     "data": {
      "application/vnd.jupyter.widget-view+json": {
       "model_id": "684a1214520c41be9ca5601a88d2c35c",
       "version_major": 2,
       "version_minor": 0
      },
      "text/plain": [
       "HBox(children=(FloatProgress(value=0.0, max=628.0), HTML(value='')))"
      ]
     },
     "metadata": {},
     "output_type": "display_data"
    },
    {
     "name": "stdout",
     "output_type": "stream",
     "text": [
      "\n",
      "Sun Apr 19 09:52:14 2020 Epoch 28, lr: 0.0005782, train loss: 3.63032, val loss: 0.12886, acc: 94.60516, acc1: 95.06323, acc2: 98.45150, acc3: 98.47142, score1: 0.966370, score2: 0.957609\n",
      "score2 (0.966067 --> 0.966370).  Saving model ...\n",
      "Sun Apr 19 09:52:15 2020 Epoch: 29\n"
     ]
    },
    {
     "data": {
      "application/vnd.jupyter.widget-view+json": {
       "model_id": "c1f32bb5bd1948aa8a586e868cdf779b",
       "version_major": 2,
       "version_minor": 0
      },
      "text/plain": [
       "HBox(children=(FloatProgress(value=0.0, max=628.0), HTML(value='')))"
      ]
     },
     "metadata": {},
     "output_type": "display_data"
    },
    {
     "name": "stdout",
     "output_type": "stream",
     "text": [
      "\n",
      "Sun Apr 19 10:11:08 2020 Epoch 29, lr: 0.0005523, train loss: 3.59776, val loss: 0.12625, acc: 94.84913, acc1: 95.16780, acc2: 98.61581, acc3: 98.43906, score1: 0.967977, score2: 0.959607\n",
      "score2 (0.966370 --> 0.967977).  Saving model ...\n",
      "Sun Apr 19 10:11:09 2020 Epoch: 30\n"
     ]
    },
    {
     "data": {
      "application/vnd.jupyter.widget-view+json": {
       "model_id": "13fa5ac194f3482687b8d7544f42ea5b",
       "version_major": 2,
       "version_minor": 0
      },
      "text/plain": [
       "HBox(children=(FloatProgress(value=0.0, max=628.0), HTML(value='')))"
      ]
     },
     "metadata": {},
     "output_type": "display_data"
    },
    {
     "name": "stdout",
     "output_type": "stream",
     "text": [
      "\n",
      "Sun Apr 19 10:29:58 2020 Epoch 30, lr: 0.0005262, train loss: 3.60668, val loss: 0.12661, acc: 94.69727, acc1: 95.19269, acc2: 98.47391, acc3: 98.45150, score1: 0.966225, score2: 0.960036\n",
      "Sun Apr 19 10:29:58 2020 Epoch: 31\n"
     ]
    },
    {
     "data": {
      "application/vnd.jupyter.widget-view+json": {
       "model_id": "1a71a7d0046d474189f3a6aaccf45ecb",
       "version_major": 2,
       "version_minor": 0
      },
      "text/plain": [
       "HBox(children=(FloatProgress(value=0.0, max=628.0), HTML(value='')))"
      ]
     },
     "metadata": {},
     "output_type": "display_data"
    },
    {
     "name": "stdout",
     "output_type": "stream",
     "text": [
      "\n",
      "Sun Apr 19 10:48:30 2020 Epoch 31, lr: 0.0005000, train loss: 3.58588, val loss: 0.12793, acc: 94.88150, acc1: 95.32215, acc2: 98.60586, acc3: 98.40669, score1: 0.967589, score2: 0.959285\n",
      "Sun Apr 19 10:48:30 2020 Epoch: 32\n"
     ]
    },
    {
     "data": {
      "application/vnd.jupyter.widget-view+json": {
       "model_id": "cb54532009bf4e538cee208b63b8e7ad",
       "version_major": 2,
       "version_minor": 0
      },
      "text/plain": [
       "HBox(children=(FloatProgress(value=0.0, max=628.0), HTML(value='')))"
      ]
     },
     "metadata": {},
     "output_type": "display_data"
    },
    {
     "name": "stdout",
     "output_type": "stream",
     "text": [
      "\n",
      "Sun Apr 19 11:07:14 2020 Epoch 32, lr: 0.0004738, train loss: 3.55994, val loss: 0.12058, acc: 94.99353, acc1: 95.33957, acc2: 98.47889, acc3: 98.52619, score1: 0.967466, score2: 0.960103\n",
      "Sun Apr 19 11:07:14 2020 Epoch: 33\n"
     ]
    },
    {
     "data": {
      "application/vnd.jupyter.widget-view+json": {
       "model_id": "61f70445ad1f4a1d87b4a4420b0a2ea1",
       "version_major": 2,
       "version_minor": 0
      },
      "text/plain": [
       "HBox(children=(FloatProgress(value=0.0, max=628.0), HTML(value='')))"
      ]
     },
     "metadata": {},
     "output_type": "display_data"
    },
    {
     "name": "stdout",
     "output_type": "stream",
     "text": [
      "\n",
      "Sun Apr 19 11:25:49 2020 Epoch 33, lr: 0.0004477, train loss: 3.54529, val loss: 0.12052, acc: 95.06074, acc1: 95.51882, acc2: 98.71042, acc3: 98.55855, score1: 0.967641, score2: 0.961345\n",
      "Sun Apr 19 11:25:49 2020 Epoch: 34\n"
     ]
    },
    {
     "data": {
      "application/vnd.jupyter.widget-view+json": {
       "model_id": "3a0ced44c7ca4f128e53abfef78fcc6a",
       "version_major": 2,
       "version_minor": 0
      },
      "text/plain": [
       "HBox(children=(FloatProgress(value=0.0, max=628.0), HTML(value='')))"
      ]
     },
     "metadata": {},
     "output_type": "display_data"
    },
    {
     "name": "stdout",
     "output_type": "stream",
     "text": [
      "\n",
      "Sun Apr 19 11:44:04 2020 Epoch 34, lr: 0.0004218, train loss: 3.56517, val loss: 0.11547, acc: 95.31219, acc1: 95.65575, acc2: 98.74278, acc3: 98.62826, score1: 0.970505, score2: 0.963688\n",
      "score2 (0.967977 --> 0.970505).  Saving model ...\n",
      "Sun Apr 19 11:44:04 2020 Epoch: 35\n"
     ]
    },
    {
     "data": {
      "application/vnd.jupyter.widget-view+json": {
       "model_id": "f6a949798b694bd09dca95436eb68e34",
       "version_major": 2,
       "version_minor": 0
      },
      "text/plain": [
       "HBox(children=(FloatProgress(value=0.0, max=628.0), HTML(value='')))"
      ]
     },
     "metadata": {},
     "output_type": "display_data"
    },
    {
     "name": "stdout",
     "output_type": "stream",
     "text": [
      "\n",
      "Sun Apr 19 12:02:59 2020 Epoch 35, lr: 0.0003960, train loss: 3.57200, val loss: 0.11417, acc: 95.32215, acc1: 95.75533, acc2: 98.72535, acc3: 98.54113, score1: 0.970025, score2: 0.963500\n",
      "Sun Apr 19 12:02:59 2020 Epoch: 36\n"
     ]
    },
    {
     "data": {
      "application/vnd.jupyter.widget-view+json": {
       "model_id": "49751860e9db4d79b43b23d0581bda5d",
       "version_major": 2,
       "version_minor": 0
      },
      "text/plain": [
       "HBox(children=(FloatProgress(value=0.0, max=628.0), HTML(value='')))"
      ]
     },
     "metadata": {},
     "output_type": "display_data"
    },
    {
     "name": "stdout",
     "output_type": "stream",
     "text": [
      "\n",
      "Sun Apr 19 12:21:37 2020 Epoch 36, lr: 0.0003706, train loss: 3.54595, val loss: 0.11391, acc: 95.41924, acc1: 95.68064, acc2: 98.66809, acc3: 98.50129, score1: 0.971661, score2: 0.963855\n",
      "score2 (0.970505 --> 0.971661).  Saving model ...\n",
      "Sun Apr 19 12:21:38 2020 Epoch: 37\n"
     ]
    },
    {
     "data": {
      "application/vnd.jupyter.widget-view+json": {
       "model_id": "58b345ea239c4ba888a4c6386a9feb87",
       "version_major": 2,
       "version_minor": 0
      },
      "text/plain": [
       "HBox(children=(FloatProgress(value=0.0, max=628.0), HTML(value='')))"
      ]
     },
     "metadata": {},
     "output_type": "display_data"
    },
    {
     "name": "stdout",
     "output_type": "stream",
     "text": [
      "\n",
      "Sun Apr 19 12:40:29 2020 Epoch 37, lr: 0.0003455, train loss: 3.53713, val loss: 0.11021, acc: 95.43916, acc1: 95.77026, acc2: 98.75772, acc3: 98.59341, score1: 0.970481, score2: 0.963787\n",
      "Sun Apr 19 12:40:29 2020 Epoch: 38\n"
     ]
    },
    {
     "data": {
      "application/vnd.jupyter.widget-view+json": {
       "model_id": "d2b7b5c62ef44681a3e161cc834d0a95",
       "version_major": 2,
       "version_minor": 0
      },
      "text/plain": [
       "HBox(children=(FloatProgress(value=0.0, max=628.0), HTML(value='')))"
      ]
     },
     "metadata": {},
     "output_type": "display_data"
    },
    {
     "name": "stdout",
     "output_type": "stream",
     "text": [
      "\n",
      "Sun Apr 19 12:59:12 2020 Epoch 38, lr: 0.0003208, train loss: 3.52511, val loss: 0.10702, acc: 95.68811, acc1: 95.93457, acc2: 98.76519, acc3: 98.60586, score1: 0.971676, score2: 0.965428\n",
      "score2 (0.971661 --> 0.971676).  Saving model ...\n",
      "Sun Apr 19 12:59:13 2020 Epoch: 39\n"
     ]
    },
    {
     "data": {
      "application/vnd.jupyter.widget-view+json": {
       "model_id": "70df42fd71d640c088b2204c9b715001",
       "version_major": 2,
       "version_minor": 0
      },
      "text/plain": [
       "HBox(children=(FloatProgress(value=0.0, max=628.0), HTML(value='')))"
      ]
     },
     "metadata": {},
     "output_type": "display_data"
    },
    {
     "name": "stdout",
     "output_type": "stream",
     "text": [
      "\n",
      "Sun Apr 19 13:17:58 2020 Epoch 39, lr: 0.0002966, train loss: 3.52196, val loss: 0.10966, acc: 95.76778, acc1: 95.89474, acc2: 98.85481, acc3: 98.74776, score1: 0.972621, score2: 0.965813\n",
      "score2 (0.971676 --> 0.972621).  Saving model ...\n",
      "Sun Apr 19 13:17:59 2020 Epoch: 40\n"
     ]
    },
    {
     "data": {
      "application/vnd.jupyter.widget-view+json": {
       "model_id": "c946c0ee57c2409c969a20f9b5724a43",
       "version_major": 2,
       "version_minor": 0
      },
      "text/plain": [
       "HBox(children=(FloatProgress(value=0.0, max=628.0), HTML(value='')))"
      ]
     },
     "metadata": {},
     "output_type": "display_data"
    },
    {
     "name": "stdout",
     "output_type": "stream",
     "text": [
      "\n",
      "Sun Apr 19 13:36:22 2020 Epoch 40, lr: 0.0002730, train loss: 3.52021, val loss: 0.10777, acc: 95.72047, acc1: 95.86736, acc2: 98.81249, acc3: 98.71540, score1: 0.972206, score2: 0.966093\n",
      "Sun Apr 19 13:36:22 2020 Epoch: 41\n"
     ]
    },
    {
     "data": {
      "application/vnd.jupyter.widget-view+json": {
       "model_id": "b9f2fa090ad74cd293f1afb30b12a2cc",
       "version_major": 2,
       "version_minor": 0
      },
      "text/plain": [
       "HBox(children=(FloatProgress(value=0.0, max=628.0), HTML(value='')))"
      ]
     },
     "metadata": {},
     "output_type": "display_data"
    },
    {
     "name": "stdout",
     "output_type": "stream",
     "text": [
      "\n",
      "Sun Apr 19 13:54:56 2020 Epoch 41, lr: 0.0002500, train loss: 3.52523, val loss: 0.10133, acc: 95.97441, acc1: 96.19349, acc2: 98.88966, acc3: 98.71788, score1: 0.973808, score2: 0.966929\n",
      "score2 (0.972621 --> 0.973808).  Saving model ...\n",
      "Sun Apr 19 13:54:57 2020 Epoch: 42\n"
     ]
    },
    {
     "data": {
      "application/vnd.jupyter.widget-view+json": {
       "model_id": "b57805766e36425a9e1a02272c7396c6",
       "version_major": 2,
       "version_minor": 0
      },
      "text/plain": [
       "HBox(children=(FloatProgress(value=0.0, max=628.0), HTML(value='')))"
      ]
     },
     "metadata": {},
     "output_type": "display_data"
    },
    {
     "name": "stdout",
     "output_type": "stream",
     "text": [
      "\n",
      "Sun Apr 19 14:13:56 2020 Epoch 42, lr: 0.0002277, train loss: 3.48947, val loss: 0.09928, acc: 95.95449, acc1: 96.12378, acc2: 98.90211, acc3: 98.78510, score1: 0.974835, score2: 0.966276\n",
      "score2 (0.973808 --> 0.974835).  Saving model ...\n",
      "Sun Apr 19 14:13:57 2020 Epoch: 43\n"
     ]
    },
    {
     "data": {
      "application/vnd.jupyter.widget-view+json": {
       "model_id": "b947964278494dd8bfa962089bcccf90",
       "version_major": 2,
       "version_minor": 0
      },
      "text/plain": [
       "HBox(children=(FloatProgress(value=0.0, max=628.0), HTML(value='')))"
      ]
     },
     "metadata": {},
     "output_type": "display_data"
    },
    {
     "name": "stdout",
     "output_type": "stream",
     "text": [
      "\n",
      "Sun Apr 19 14:32:46 2020 Epoch 43, lr: 0.0002061, train loss: 3.48496, val loss: 0.09799, acc: 96.01922, acc1: 96.16610, acc2: 98.94941, acc3: 98.73282, score1: 0.974953, score2: 0.967856\n",
      "score2 (0.974835 --> 0.974953).  Saving model ...\n",
      "Sun Apr 19 14:32:46 2020 Epoch: 44\n"
     ]
    },
    {
     "data": {
      "application/vnd.jupyter.widget-view+json": {
       "model_id": "075aa429d28c4bf4ac816d0a77b1b624",
       "version_major": 2,
       "version_minor": 0
      },
      "text/plain": [
       "HBox(children=(FloatProgress(value=0.0, max=628.0), HTML(value='')))"
      ]
     },
     "metadata": {},
     "output_type": "display_data"
    },
    {
     "name": "stdout",
     "output_type": "stream",
     "text": [
      "\n",
      "Sun Apr 19 14:51:41 2020 Epoch 44, lr: 0.0001853, train loss: 3.48726, val loss: 0.09740, acc: 96.14868, acc1: 96.20345, acc2: 98.88717, acc3: 98.70295, score1: 0.976011, score2: 0.967854\n",
      "score2 (0.974953 --> 0.976011).  Saving model ...\n",
      "Sun Apr 19 14:51:42 2020 Epoch: 45\n"
     ]
    },
    {
     "data": {
      "application/vnd.jupyter.widget-view+json": {
       "model_id": "a2518dd46dd248a8bdf21ab85bb09f27",
       "version_major": 2,
       "version_minor": 0
      },
      "text/plain": [
       "HBox(children=(FloatProgress(value=0.0, max=628.0), HTML(value='')))"
      ]
     },
     "metadata": {},
     "output_type": "display_data"
    },
    {
     "name": "stdout",
     "output_type": "stream",
     "text": [
      "\n",
      "Sun Apr 19 15:10:41 2020 Epoch 45, lr: 0.0001654, train loss: 3.47752, val loss: 0.09681, acc: 96.17606, acc1: 96.27066, acc2: 98.96186, acc3: 98.82494, score1: 0.975773, score2: 0.968279\n",
      "Sun Apr 19 15:10:41 2020 Epoch: 46\n"
     ]
    },
    {
     "data": {
      "application/vnd.jupyter.widget-view+json": {
       "model_id": "96c988417a1b42a891673d7cc1e1cadc",
       "version_major": 2,
       "version_minor": 0
      },
      "text/plain": [
       "HBox(children=(FloatProgress(value=0.0, max=628.0), HTML(value='')))"
      ]
     },
     "metadata": {},
     "output_type": "display_data"
    },
    {
     "name": "stdout",
     "output_type": "stream",
     "text": [
      "\n",
      "Sun Apr 19 15:29:19 2020 Epoch 46, lr: 0.0001464, train loss: 3.47945, val loss: 0.09526, acc: 96.22585, acc1: 96.27315, acc2: 98.93448, acc3: 98.84236, score1: 0.975311, score2: 0.968248\n",
      "Sun Apr 19 15:29:19 2020 Epoch: 47\n"
     ]
    },
    {
     "data": {
      "application/vnd.jupyter.widget-view+json": {
       "model_id": "b0054bcfa2c1471fb54a99634784fc62",
       "version_major": 2,
       "version_minor": 0
      },
      "text/plain": [
       "HBox(children=(FloatProgress(value=0.0, max=628.0), HTML(value='')))"
      ]
     },
     "metadata": {},
     "output_type": "display_data"
    },
    {
     "name": "stdout",
     "output_type": "stream",
     "text": [
      "\n",
      "Sun Apr 19 15:48:15 2020 Epoch 47, lr: 0.0001284, train loss: 3.45984, val loss: 0.09358, acc: 96.26319, acc1: 96.39514, acc2: 98.95937, acc3: 98.85730, score1: 0.976465, score2: 0.969711\n",
      "score2 (0.976011 --> 0.976465).  Saving model ...\n",
      "Sun Apr 19 15:48:16 2020 Epoch: 48\n"
     ]
    },
    {
     "data": {
      "application/vnd.jupyter.widget-view+json": {
       "model_id": "fac4799c5b2c4e02bdc3672cfd7c67d5",
       "version_major": 2,
       "version_minor": 0
      },
      "text/plain": [
       "HBox(children=(FloatProgress(value=0.0, max=628.0), HTML(value='')))"
      ]
     },
     "metadata": {},
     "output_type": "display_data"
    },
    {
     "name": "stdout",
     "output_type": "stream",
     "text": [
      "\n",
      "Sun Apr 19 16:06:55 2020 Epoch 48, lr: 0.0001114, train loss: 3.45025, val loss: 0.09300, acc: 96.24826, acc1: 96.31548, acc2: 98.95937, acc3: 98.86975, score1: 0.974902, score2: 0.968481\n",
      "Sun Apr 19 16:06:55 2020 Epoch: 49\n"
     ]
    },
    {
     "data": {
      "application/vnd.jupyter.widget-view+json": {
       "model_id": "eb4618dc35d84df9ba3e0e1dbab1b0af",
       "version_major": 2,
       "version_minor": 0
      },
      "text/plain": [
       "HBox(children=(FloatProgress(value=0.0, max=628.0), HTML(value='')))"
      ]
     },
     "metadata": {},
     "output_type": "display_data"
    },
    {
     "name": "stdout",
     "output_type": "stream",
     "text": [
      "\n",
      "Sun Apr 19 16:25:45 2020 Epoch 49, lr: 0.0000955, train loss: 3.44817, val loss: 0.08941, acc: 96.37771, acc1: 96.38269, acc2: 98.98925, acc3: 98.88717, score1: 0.977017, score2: 0.969822\n",
      "score2 (0.976465 --> 0.977017).  Saving model ...\n",
      "Sun Apr 19 16:25:46 2020 Epoch: 50\n"
     ]
    },
    {
     "data": {
      "application/vnd.jupyter.widget-view+json": {
       "model_id": "c182d245186c40d0b07ba58fca61f271",
       "version_major": 2,
       "version_minor": 0
      },
      "text/plain": [
       "HBox(children=(FloatProgress(value=0.0, max=628.0), HTML(value='')))"
      ]
     },
     "metadata": {},
     "output_type": "display_data"
    },
    {
     "name": "stdout",
     "output_type": "stream",
     "text": [
      "\n",
      "Sun Apr 19 16:44:28 2020 Epoch 50, lr: 0.0000807, train loss: 3.44458, val loss: 0.08963, acc: 96.43248, acc1: 96.40012, acc2: 99.00667, acc3: 98.93696, score1: 0.976998, score2: 0.969838\n",
      "Sun Apr 19 16:44:28 2020 Epoch: 51\n"
     ]
    },
    {
     "data": {
      "application/vnd.jupyter.widget-view+json": {
       "model_id": "cbff06c96347465cbd1bfc3b2934a4da",
       "version_major": 2,
       "version_minor": 0
      },
      "text/plain": [
       "HBox(children=(FloatProgress(value=0.0, max=628.0), HTML(value='')))"
      ]
     },
     "metadata": {},
     "output_type": "display_data"
    },
    {
     "name": "stdout",
     "output_type": "stream",
     "text": [
      "\n",
      "Sun Apr 19 17:03:30 2020 Epoch 51, lr: 0.0000670, train loss: 3.44037, val loss: 0.08890, acc: 96.47730, acc1: 96.42750, acc2: 99.02410, acc3: 98.91207, score1: 0.977236, score2: 0.970402\n",
      "score2 (0.977017 --> 0.977236).  Saving model ...\n",
      "Sun Apr 19 17:03:31 2020 Epoch: 52\n"
     ]
    },
    {
     "data": {
      "application/vnd.jupyter.widget-view+json": {
       "model_id": "a1cfa40cf05a4f40b74c419a144120e5",
       "version_major": 2,
       "version_minor": 0
      },
      "text/plain": [
       "HBox(children=(FloatProgress(value=0.0, max=628.0), HTML(value='')))"
      ]
     },
     "metadata": {},
     "output_type": "display_data"
    },
    {
     "name": "stdout",
     "output_type": "stream",
     "text": [
      "\n",
      "Sun Apr 19 17:22:28 2020 Epoch 52, lr: 0.0000545, train loss: 3.44543, val loss: 0.08910, acc: 96.46734, acc1: 96.52460, acc2: 99.04650, acc3: 98.92950, score1: 0.977443, score2: 0.970868\n",
      "score2 (0.977236 --> 0.977443).  Saving model ...\n",
      "Sun Apr 19 17:22:29 2020 Epoch: 53\n"
     ]
    },
    {
     "data": {
      "application/vnd.jupyter.widget-view+json": {
       "model_id": "49b42983ab27410bbb288148ca94d5ea",
       "version_major": 2,
       "version_minor": 0
      },
      "text/plain": [
       "HBox(children=(FloatProgress(value=0.0, max=628.0), HTML(value='')))"
      ]
     },
     "metadata": {},
     "output_type": "display_data"
    },
    {
     "name": "stdout",
     "output_type": "stream",
     "text": [
      "\n",
      "Sun Apr 19 17:40:56 2020 Epoch 53, lr: 0.0000432, train loss: 3.45705, val loss: 0.08706, acc: 96.53953, acc1: 96.50966, acc2: 99.03655, acc3: 98.89215, score1: 0.977789, score2: 0.970201\n",
      "score2 (0.977443 --> 0.977789).  Saving model ...\n",
      "Sun Apr 19 17:40:56 2020 Epoch: 54\n"
     ]
    },
    {
     "data": {
      "application/vnd.jupyter.widget-view+json": {
       "model_id": "bf33b288464d4cb4a32d88331026b4a4",
       "version_major": 2,
       "version_minor": 0
      },
      "text/plain": [
       "HBox(children=(FloatProgress(value=0.0, max=628.0), HTML(value='')))"
      ]
     },
     "metadata": {},
     "output_type": "display_data"
    },
    {
     "name": "stdout",
     "output_type": "stream",
     "text": [
      "\n",
      "Sun Apr 19 17:59:51 2020 Epoch 54, lr: 0.0000332, train loss: 3.43820, val loss: 0.08770, acc: 96.54451, acc1: 96.54202, acc2: 99.03655, acc3: 98.93199, score1: 0.977630, score2: 0.970718\n",
      "Sun Apr 19 17:59:51 2020 Epoch: 55\n"
     ]
    },
    {
     "data": {
      "application/vnd.jupyter.widget-view+json": {
       "model_id": "9ff947a3ce5c42029da1ac1ed9c78ceb",
       "version_major": 2,
       "version_minor": 0
      },
      "text/plain": [
       "HBox(children=(FloatProgress(value=0.0, max=628.0), HTML(value='')))"
      ]
     },
     "metadata": {},
     "output_type": "display_data"
    },
    {
     "name": "stdout",
     "output_type": "stream",
     "text": [
      "\n",
      "Sun Apr 19 18:18:34 2020 Epoch 55, lr: 0.0000245, train loss: 3.43621, val loss: 0.08803, acc: 96.52460, acc1: 96.57688, acc2: 99.03406, acc3: 98.91207, score1: 0.977846, score2: 0.970714\n",
      "score2 (0.977789 --> 0.977846).  Saving model ...\n",
      "Sun Apr 19 18:18:35 2020 Epoch: 56\n"
     ]
    },
    {
     "data": {
      "application/vnd.jupyter.widget-view+json": {
       "model_id": "fe10d982f2494e1fb3fddbfdd848b9b5",
       "version_major": 2,
       "version_minor": 0
      },
      "text/plain": [
       "HBox(children=(FloatProgress(value=0.0, max=628.0), HTML(value='')))"
      ]
     },
     "metadata": {},
     "output_type": "display_data"
    },
    {
     "name": "stdout",
     "output_type": "stream",
     "text": [
      "\n",
      "Sun Apr 19 18:37:35 2020 Epoch 56, lr: 0.0000170, train loss: 3.41455, val loss: 0.08596, acc: 96.55198, acc1: 96.55945, acc2: 99.03904, acc3: 98.91705, score1: 0.977753, score2: 0.970578\n",
      "Sun Apr 19 18:37:35 2020 Epoch: 57\n"
     ]
    },
    {
     "data": {
      "application/vnd.jupyter.widget-view+json": {
       "model_id": "7c1b325108754073adb585ba9a3dab6d",
       "version_major": 2,
       "version_minor": 0
      },
      "text/plain": [
       "HBox(children=(FloatProgress(value=0.0, max=628.0), HTML(value='')))"
      ]
     },
     "metadata": {},
     "output_type": "display_data"
    },
    {
     "name": "stdout",
     "output_type": "stream",
     "text": [
      "\n",
      "Sun Apr 19 18:56:26 2020 Epoch 57, lr: 0.0000109, train loss: 3.41851, val loss: 0.08573, acc: 96.58186, acc1: 96.55447, acc2: 99.04899, acc3: 98.91705, score1: 0.978009, score2: 0.970724\n",
      "score2 (0.977846 --> 0.978009).  Saving model ...\n",
      "Sun Apr 19 18:56:27 2020 Epoch: 58\n"
     ]
    },
    {
     "data": {
      "application/vnd.jupyter.widget-view+json": {
       "model_id": "93c83926808b487cbdad5a31c03cf736",
       "version_major": 2,
       "version_minor": 0
      },
      "text/plain": [
       "HBox(children=(FloatProgress(value=0.0, max=628.0), HTML(value='')))"
      ]
     },
     "metadata": {},
     "output_type": "display_data"
    },
    {
     "name": "stdout",
     "output_type": "stream",
     "text": [
      "\n",
      "Sun Apr 19 19:15:19 2020 Epoch 58, lr: 0.0000062, train loss: 3.41325, val loss: 0.08478, acc: 96.56443, acc1: 96.56692, acc2: 99.04650, acc3: 98.91207, score1: 0.977833, score2: 0.970578\n",
      "Sun Apr 19 19:15:19 2020 Epoch: 59\n"
     ]
    },
    {
     "data": {
      "application/vnd.jupyter.widget-view+json": {
       "model_id": "80db3f1e863943439133328a4d3b9d17",
       "version_major": 2,
       "version_minor": 0
      },
      "text/plain": [
       "HBox(children=(FloatProgress(value=0.0, max=628.0), HTML(value='')))"
      ]
     },
     "metadata": {},
     "output_type": "display_data"
    },
    {
     "name": "stdout",
     "output_type": "stream",
     "text": [
      "\n",
      "Sun Apr 19 19:34:25 2020 Epoch 59, lr: 0.0000027, train loss: 3.40452, val loss: 0.08600, acc: 96.58684, acc1: 96.56941, acc2: 99.05646, acc3: 98.92452, score1: 0.978065, score2: 0.970649\n",
      "score2 (0.978009 --> 0.978065).  Saving model ...\n",
      "Sun Apr 19 19:34:26 2020 Epoch: 60\n"
     ]
    },
    {
     "data": {
      "application/vnd.jupyter.widget-view+json": {
       "model_id": "f1ab923eb37a4ca0b960596d7294166c",
       "version_major": 2,
       "version_minor": 0
      },
      "text/plain": [
       "HBox(children=(FloatProgress(value=0.0, max=628.0), HTML(value='')))"
      ]
     },
     "metadata": {},
     "output_type": "display_data"
    },
    {
     "name": "stdout",
     "output_type": "stream",
     "text": [
      "\n",
      "Sun Apr 19 19:53:18 2020 Epoch 60, lr: 0.0000007, train loss: 3.42261, val loss: 0.08643, acc: 96.56194, acc1: 96.58932, acc2: 99.06393, acc3: 98.91705, score1: 0.977827, score2: 0.970741\n"
     ]
    }
   ],
   "source": [
    "i_fold = fold\n",
    "train_idx, valid_idx = np.where((df_train['fold'] != i_fold))[0], np.where((df_train['fold'] == i_fold))[0]\n",
    "\n",
    "dataset_train = BengaliDataset(df_train, data, train_idx, 'train', 'train', transform=transforms_train)\n",
    "dataset_valid = BengaliDataset(df_train, data, valid_idx, 'train', 'val', transform=transforms_val)\n",
    "train_loader = torch.utils.data.DataLoader(dataset_train, batch_size=batch_size, sampler=RandomSampler(dataset_train), num_workers=num_workers)\n",
    "valid_loader = torch.utils.data.DataLoader(dataset_valid, batch_size=batch_size, sampler=None, num_workers=num_workers)\n",
    "\n",
    "targets0 = df_train.loc[valid_idx]['grapheme_id'].values\n",
    "\n",
    "model = enet_3cg(enet_type, out_dim_1=c0_dim, out_dim_2=c1_dim+c2_dim+c3_dim)\n",
    "model = model.to(device)\n",
    "\n",
    "max_score = 0\n",
    "model_file = f'{kernel_type}_best_fold{i_fold}.pth'\n",
    "\n",
    "print('Training All Layers...')\n",
    "optimizer = optim.AdamW(model.parameters(), lr=init_lr)\n",
    "# optimizer = apex.optimizers.FusedAdam(model.parameters(), lr=init_lr)\n",
    "if use_amp:\n",
    "    model, optimizer = amp.initialize(model, optimizer, opt_level=\"O1\")\n",
    "scheduler_cosine = torch.optim.lr_scheduler.CosineAnnealingLR(optimizer, n_epochs)\n",
    "mb = master_bar(range(1, n_epochs+1))\n",
    "for epoch in mb:\n",
    "    print(time.ctime(), 'Epoch:', epoch)\n",
    "    scheduler_cosine.step(epoch-1)\n",
    "\n",
    "    train_loss = train_epoch(train_loader, optimizer, mb)\n",
    "    val_loss, acc, acc1, acc2, acc3, score1, score2 = val_epoch(valid_loader)\n",
    "\n",
    "    content = time.ctime() + ' ' + f'Epoch {epoch}, lr: {optimizer.param_groups[0][\"lr\"]:.7f}, train loss: {np.mean(train_loss):.5f}, val loss: {np.mean(val_loss):.5f}, acc: {(acc):.5f}, acc1: {(acc1):.5f}, acc2: {(acc2):.5f}, acc3: {(acc3):.5f}, score1: {(score1):.6f}, score2: {(score2):.6f}'\n",
    "    print(content)\n",
    "    with open(f'log_{kernel_type}.txt', 'a') as appender:\n",
    "        appender.write(content + '\\n')\n",
    "\n",
    "    if score1 >= max_score:\n",
    "        print('score2 ({:.6f} --> {:.6f}).  Saving model ...'.format(max_score, score1))\n",
    "        torch.save(model.state_dict(), model_file)\n",
    "        max_score = score1\n",
    "\n",
    "    record[i_fold]['train_loss'].append(np.mean(train_loss))\n",
    "    record[i_fold]['val_loss'].append(val_loss)\n",
    "    record[i_fold]['score1'].append(np.mean(score1))\n",
    "    record[i_fold]['score2'].append(score2)\n",
    "\n",
    "torch.save(model.state_dict(), os.path.join(f'{kernel_type}_model_fold{i_fold}.pth'))"
   ]
  },
  {
   "cell_type": "code",
   "execution_count": null,
   "metadata": {},
   "outputs": [],
   "source": []
  },
  {
   "cell_type": "code",
   "execution_count": null,
   "metadata": {},
   "outputs": [],
   "source": []
  }
 ],
 "metadata": {
  "kernelspec": {
   "display_name": "Python 3",
   "language": "python",
   "name": "python3"
  },
  "language_info": {
   "codemirror_mode": {
    "name": "ipython",
    "version": 3
   },
   "file_extension": ".py",
   "mimetype": "text/x-python",
   "name": "python",
   "nbconvert_exporter": "python",
   "pygments_lexer": "ipython3",
   "version": "3.8.2"
  }
 },
 "nbformat": 4,
 "nbformat_minor": 4
}
